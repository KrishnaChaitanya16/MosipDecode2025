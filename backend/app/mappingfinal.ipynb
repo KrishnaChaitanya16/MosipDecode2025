{
  "nbformat": 4,
  "nbformat_minor": 0,
  "metadata": {
    "colab": {
      "provenance": [],
      "gpuType": "T4"
    },
    "kernelspec": {
      "name": "python3",
      "display_name": "Python 3"
    },
    "language_info": {
      "name": "python"
    },
    "accelerator": "GPU",
    "widgets": {
      "application/vnd.jupyter.widget-state+json": {
        "39bf1e6d155b4b8d9204a317397f38a7": {
          "model_module": "@jupyter-widgets/controls",
          "model_name": "HBoxModel",
          "model_module_version": "1.5.0",
          "state": {
            "_dom_classes": [],
            "_model_module": "@jupyter-widgets/controls",
            "_model_module_version": "1.5.0",
            "_model_name": "HBoxModel",
            "_view_count": null,
            "_view_module": "@jupyter-widgets/controls",
            "_view_module_version": "1.5.0",
            "_view_name": "HBoxView",
            "box_style": "",
            "children": [
              "IPY_MODEL_cf4e79429f944b69aeb0b59ef6c4393c",
              "IPY_MODEL_4de882e6926d48fd8e38f5e46d28f4fa",
              "IPY_MODEL_02c96f659e1641838c0e304bc38b1341"
            ],
            "layout": "IPY_MODEL_1d8b125f78464889a807f7e323ceb3af"
          }
        },
        "cf4e79429f944b69aeb0b59ef6c4393c": {
          "model_module": "@jupyter-widgets/controls",
          "model_name": "HTMLModel",
          "model_module_version": "1.5.0",
          "state": {
            "_dom_classes": [],
            "_model_module": "@jupyter-widgets/controls",
            "_model_module_version": "1.5.0",
            "_model_name": "HTMLModel",
            "_view_count": null,
            "_view_module": "@jupyter-widgets/controls",
            "_view_module_version": "1.5.0",
            "_view_name": "HTMLView",
            "description": "",
            "description_tooltip": null,
            "layout": "IPY_MODEL_6c40d5d824054bc088d05402b09c3482",
            "placeholder": "​",
            "style": "IPY_MODEL_9294e8817ec54a279c11671e336dd7f1",
            "value": "Loading checkpoint shards: 100%"
          }
        },
        "4de882e6926d48fd8e38f5e46d28f4fa": {
          "model_module": "@jupyter-widgets/controls",
          "model_name": "FloatProgressModel",
          "model_module_version": "1.5.0",
          "state": {
            "_dom_classes": [],
            "_model_module": "@jupyter-widgets/controls",
            "_model_module_version": "1.5.0",
            "_model_name": "FloatProgressModel",
            "_view_count": null,
            "_view_module": "@jupyter-widgets/controls",
            "_view_module_version": "1.5.0",
            "_view_name": "ProgressView",
            "bar_style": "success",
            "description": "",
            "description_tooltip": null,
            "layout": "IPY_MODEL_381ff56b817d44e0ac38b69c12f164cf",
            "max": 2,
            "min": 0,
            "orientation": "horizontal",
            "style": "IPY_MODEL_e77f632d1e274f6fa47dff28cef33d6b",
            "value": 2
          }
        },
        "02c96f659e1641838c0e304bc38b1341": {
          "model_module": "@jupyter-widgets/controls",
          "model_name": "HTMLModel",
          "model_module_version": "1.5.0",
          "state": {
            "_dom_classes": [],
            "_model_module": "@jupyter-widgets/controls",
            "_model_module_version": "1.5.0",
            "_model_name": "HTMLModel",
            "_view_count": null,
            "_view_module": "@jupyter-widgets/controls",
            "_view_module_version": "1.5.0",
            "_view_name": "HTMLView",
            "description": "",
            "description_tooltip": null,
            "layout": "IPY_MODEL_9291a14bfb6b40d99fb5eb5de4ac69dc",
            "placeholder": "​",
            "style": "IPY_MODEL_afd11219ec1e453c8d5a8e0f4452e01f",
            "value": " 2/2 [00:28&lt;00:00, 13.00s/it]"
          }
        },
        "1d8b125f78464889a807f7e323ceb3af": {
          "model_module": "@jupyter-widgets/base",
          "model_name": "LayoutModel",
          "model_module_version": "1.2.0",
          "state": {
            "_model_module": "@jupyter-widgets/base",
            "_model_module_version": "1.2.0",
            "_model_name": "LayoutModel",
            "_view_count": null,
            "_view_module": "@jupyter-widgets/base",
            "_view_module_version": "1.2.0",
            "_view_name": "LayoutView",
            "align_content": null,
            "align_items": null,
            "align_self": null,
            "border": null,
            "bottom": null,
            "display": null,
            "flex": null,
            "flex_flow": null,
            "grid_area": null,
            "grid_auto_columns": null,
            "grid_auto_flow": null,
            "grid_auto_rows": null,
            "grid_column": null,
            "grid_gap": null,
            "grid_row": null,
            "grid_template_areas": null,
            "grid_template_columns": null,
            "grid_template_rows": null,
            "height": null,
            "justify_content": null,
            "justify_items": null,
            "left": null,
            "margin": null,
            "max_height": null,
            "max_width": null,
            "min_height": null,
            "min_width": null,
            "object_fit": null,
            "object_position": null,
            "order": null,
            "overflow": null,
            "overflow_x": null,
            "overflow_y": null,
            "padding": null,
            "right": null,
            "top": null,
            "visibility": null,
            "width": null
          }
        },
        "6c40d5d824054bc088d05402b09c3482": {
          "model_module": "@jupyter-widgets/base",
          "model_name": "LayoutModel",
          "model_module_version": "1.2.0",
          "state": {
            "_model_module": "@jupyter-widgets/base",
            "_model_module_version": "1.2.0",
            "_model_name": "LayoutModel",
            "_view_count": null,
            "_view_module": "@jupyter-widgets/base",
            "_view_module_version": "1.2.0",
            "_view_name": "LayoutView",
            "align_content": null,
            "align_items": null,
            "align_self": null,
            "border": null,
            "bottom": null,
            "display": null,
            "flex": null,
            "flex_flow": null,
            "grid_area": null,
            "grid_auto_columns": null,
            "grid_auto_flow": null,
            "grid_auto_rows": null,
            "grid_column": null,
            "grid_gap": null,
            "grid_row": null,
            "grid_template_areas": null,
            "grid_template_columns": null,
            "grid_template_rows": null,
            "height": null,
            "justify_content": null,
            "justify_items": null,
            "left": null,
            "margin": null,
            "max_height": null,
            "max_width": null,
            "min_height": null,
            "min_width": null,
            "object_fit": null,
            "object_position": null,
            "order": null,
            "overflow": null,
            "overflow_x": null,
            "overflow_y": null,
            "padding": null,
            "right": null,
            "top": null,
            "visibility": null,
            "width": null
          }
        },
        "9294e8817ec54a279c11671e336dd7f1": {
          "model_module": "@jupyter-widgets/controls",
          "model_name": "DescriptionStyleModel",
          "model_module_version": "1.5.0",
          "state": {
            "_model_module": "@jupyter-widgets/controls",
            "_model_module_version": "1.5.0",
            "_model_name": "DescriptionStyleModel",
            "_view_count": null,
            "_view_module": "@jupyter-widgets/base",
            "_view_module_version": "1.2.0",
            "_view_name": "StyleView",
            "description_width": ""
          }
        },
        "381ff56b817d44e0ac38b69c12f164cf": {
          "model_module": "@jupyter-widgets/base",
          "model_name": "LayoutModel",
          "model_module_version": "1.2.0",
          "state": {
            "_model_module": "@jupyter-widgets/base",
            "_model_module_version": "1.2.0",
            "_model_name": "LayoutModel",
            "_view_count": null,
            "_view_module": "@jupyter-widgets/base",
            "_view_module_version": "1.2.0",
            "_view_name": "LayoutView",
            "align_content": null,
            "align_items": null,
            "align_self": null,
            "border": null,
            "bottom": null,
            "display": null,
            "flex": null,
            "flex_flow": null,
            "grid_area": null,
            "grid_auto_columns": null,
            "grid_auto_flow": null,
            "grid_auto_rows": null,
            "grid_column": null,
            "grid_gap": null,
            "grid_row": null,
            "grid_template_areas": null,
            "grid_template_columns": null,
            "grid_template_rows": null,
            "height": null,
            "justify_content": null,
            "justify_items": null,
            "left": null,
            "margin": null,
            "max_height": null,
            "max_width": null,
            "min_height": null,
            "min_width": null,
            "object_fit": null,
            "object_position": null,
            "order": null,
            "overflow": null,
            "overflow_x": null,
            "overflow_y": null,
            "padding": null,
            "right": null,
            "top": null,
            "visibility": null,
            "width": null
          }
        },
        "e77f632d1e274f6fa47dff28cef33d6b": {
          "model_module": "@jupyter-widgets/controls",
          "model_name": "ProgressStyleModel",
          "model_module_version": "1.5.0",
          "state": {
            "_model_module": "@jupyter-widgets/controls",
            "_model_module_version": "1.5.0",
            "_model_name": "ProgressStyleModel",
            "_view_count": null,
            "_view_module": "@jupyter-widgets/base",
            "_view_module_version": "1.2.0",
            "_view_name": "StyleView",
            "bar_color": null,
            "description_width": ""
          }
        },
        "9291a14bfb6b40d99fb5eb5de4ac69dc": {
          "model_module": "@jupyter-widgets/base",
          "model_name": "LayoutModel",
          "model_module_version": "1.2.0",
          "state": {
            "_model_module": "@jupyter-widgets/base",
            "_model_module_version": "1.2.0",
            "_model_name": "LayoutModel",
            "_view_count": null,
            "_view_module": "@jupyter-widgets/base",
            "_view_module_version": "1.2.0",
            "_view_name": "LayoutView",
            "align_content": null,
            "align_items": null,
            "align_self": null,
            "border": null,
            "bottom": null,
            "display": null,
            "flex": null,
            "flex_flow": null,
            "grid_area": null,
            "grid_auto_columns": null,
            "grid_auto_flow": null,
            "grid_auto_rows": null,
            "grid_column": null,
            "grid_gap": null,
            "grid_row": null,
            "grid_template_areas": null,
            "grid_template_columns": null,
            "grid_template_rows": null,
            "height": null,
            "justify_content": null,
            "justify_items": null,
            "left": null,
            "margin": null,
            "max_height": null,
            "max_width": null,
            "min_height": null,
            "min_width": null,
            "object_fit": null,
            "object_position": null,
            "order": null,
            "overflow": null,
            "overflow_x": null,
            "overflow_y": null,
            "padding": null,
            "right": null,
            "top": null,
            "visibility": null,
            "width": null
          }
        },
        "afd11219ec1e453c8d5a8e0f4452e01f": {
          "model_module": "@jupyter-widgets/controls",
          "model_name": "DescriptionStyleModel",
          "model_module_version": "1.5.0",
          "state": {
            "_model_module": "@jupyter-widgets/controls",
            "_model_module_version": "1.5.0",
            "_model_name": "DescriptionStyleModel",
            "_view_count": null,
            "_view_module": "@jupyter-widgets/base",
            "_view_module_version": "1.2.0",
            "_view_name": "StyleView",
            "description_width": ""
          }
        }
      }
    }
  },
  "cells": [
    {
      "cell_type": "code",
      "execution_count": null,
      "metadata": {
        "colab": {
          "base_uri": "https://localhost:8080/",
          "height": 433,
          "referenced_widgets": [
            "39bf1e6d155b4b8d9204a317397f38a7",
            "cf4e79429f944b69aeb0b59ef6c4393c",
            "4de882e6926d48fd8e38f5e46d28f4fa",
            "02c96f659e1641838c0e304bc38b1341",
            "1d8b125f78464889a807f7e323ceb3af",
            "6c40d5d824054bc088d05402b09c3482",
            "9294e8817ec54a279c11671e336dd7f1",
            "381ff56b817d44e0ac38b69c12f164cf",
            "e77f632d1e274f6fa47dff28cef33d6b",
            "9291a14bfb6b40d99fb5eb5de4ac69dc",
            "afd11219ec1e453c8d5a8e0f4452e01f"
          ]
        },
        "id": "9ewAx5UTynlJ",
        "outputId": "94442d8a-4cfd-4bcc-9b9c-83db59b2f347"
      },
      "outputs": [
        {
          "output_type": "stream",
          "name": "stdout",
          "text": [
            "Loading NuExtract model: numind/NuExtract-1.5\n"
          ]
        },
        {
          "output_type": "stream",
          "name": "stderr",
          "text": [
            "/usr/local/lib/python3.12/dist-packages/huggingface_hub/utils/_auth.py:94: UserWarning: \n",
            "The secret `HF_TOKEN` does not exist in your Colab secrets.\n",
            "To authenticate with the Hugging Face Hub, create a token in your settings tab (https://huggingface.co/settings/tokens), set it as secret in your Google Colab and restart your session.\n",
            "You will be able to reuse this secret in all of your notebooks.\n",
            "Please note that authentication is recommended but still optional to access public models or datasets.\n",
            "  warnings.warn(\n",
            "`torch_dtype` is deprecated! Use `dtype` instead!\n"
          ]
        },
        {
          "output_type": "stream",
          "name": "stdout",
          "text": [
            "Using device: cuda\n"
          ]
        },
        {
          "output_type": "display_data",
          "data": {
            "text/plain": [
              "Loading checkpoint shards:   0%|          | 0/2 [00:00<?, ?it/s]"
            ],
            "application/vnd.jupyter.widget-view+json": {
              "version_major": 2,
              "version_minor": 0,
              "model_id": "39bf1e6d155b4b8d9204a317397f38a7"
            }
          },
          "metadata": {}
        },
        {
          "output_type": "stream",
          "name": "stdout",
          "text": [
            "NuExtract API URL: NgrokTunnel: \"https://apologal-flutelike-bert.ngrok-free.dev\" -> \"http://localhost:8000\"\n"
          ]
        },
        {
          "output_type": "stream",
          "name": "stderr",
          "text": [
            "INFO:     Started server process [12443]\n",
            "INFO:     Waiting for application startup.\n",
            "INFO:     Application startup complete.\n",
            "INFO:     Uvicorn running on http://0.0.0.0:8000 (Press CTRL+C to quit)\n",
            "The following generation flags are not valid and may be ignored: ['temperature']. Set `TRANSFORMERS_VERBOSITY=info` for more details.\n"
          ]
        },
        {
          "output_type": "stream",
          "name": "stdout",
          "text": [
            "{'name': {'value': 'Ananya Sharma', 'confidence': 0.9}, 'age': {'value': '29', 'confidence': 0.9}, 'gender': {'value': 'Female', 'confidence': 0.9}, 'dob': {'value': None, 'confidence': None}, 'address': {'value': '123, MG Road, Bengaluru, Karnataka - 560001', 'confidence': 0.9}, 'country': {'value': 'India', 'confidence': 0.9}, 'phone': {'value': '+91-9876543210', 'confidence': 0.9}, 'email': {'value': 'ananya.sharma@example.com', 'confidence': 0.9}, 'id_number': {'value': None, 'confidence': None}}\n",
            "INFO:     119.161.98.68:0 - \"POST /extract HTTP/1.1\" 200 OK\n",
            "{'name': {'value': 'JOHN DOE', 'confidence': 0.9}, 'age': {'value': None, 'confidence': None}, 'gender': {'value': None, 'confidence': None}, 'dob': {'value': '08/03/2000', 'confidence': 0.9}, 'address': {'value': None, 'confidence': None}, 'country': {'value': None, 'confidence': None}, 'phone': {'value': None, 'confidence': None}, 'email': {'value': None, 'confidence': None}, 'id_number': {'value': '012 345 678 9', 'confidence': 0.9}}\n",
            "INFO:     119.161.98.68:0 - \"POST /extract HTTP/1.1\" 200 OK\n",
            "{'name': {'value': 'SHAH RUCHIT SUNILKUMAR', 'confidence': 0.9}, 'age': {'value': None, 'confidence': None}, 'gender': {'value': None, 'confidence': None}, 'dob': {'value': None, 'confidence': None}, 'address': {'value': 'Shastri Institute of Technology Narnarayan NSIT Gurukul Campus, At - Jetalpur, Ahmedabad-382426', 'confidence': 0.9}, 'country': {'value': None, 'confidence': None}, 'phone': {'value': '9825833001', 'confidence': 0.9}, 'email': {'value': 'nsitgurukul@yahoo.com', 'confidence': 0.9}, 'id_number': {'value': '180340119009', 'confidence': 0.9}}\n",
            "INFO:     119.161.98.68:0 - \"POST /extract HTTP/1.1\" 200 OK\n"
          ]
        }
      ],
      "source": [
        "import json\n",
        "import logging\n",
        "from fastapi import FastAPI, HTTPException\n",
        "from pydantic import BaseModel\n",
        "from transformers import AutoTokenizer, AutoModelForCausalLM\n",
        "import torch\n",
        "\n",
        "logger = logging.getLogger(__name__)\n",
        "\n",
        "# -------------------------------\n",
        "# NuExtractFieldMapper (your code)\n",
        "# -------------------------------\n",
        "\n",
        "class NuExtractFieldMapper:\n",
        "    def __init__(self, model_name=\"numind/NuExtract-1.5\"):\n",
        "        try:\n",
        "            print(f\"Loading NuExtract model: {model_name}\")\n",
        "            self.tokenizer = AutoTokenizer.from_pretrained(model_name)\n",
        "\n",
        "            device = \"cuda\" if torch.cuda.is_available() else \"cpu\"\n",
        "            print(f\"Using device: {device}\")\n",
        "\n",
        "            self.model = AutoModelForCausalLM.from_pretrained(\n",
        "                model_name,\n",
        "                torch_dtype=torch.float16 if device == \"cuda\" else torch.float32,\n",
        "                device_map=\"auto\" if device == \"cuda\" else None,\n",
        "                low_cpu_mem_usage=True\n",
        "            )\n",
        "\n",
        "            if device == \"cpu\":\n",
        "                self.model = self.model.to(device)\n",
        "\n",
        "            self.device = device\n",
        "            logger.info(f\"Successfully loaded NuExtract model on {device}\")\n",
        "\n",
        "        except Exception as e:\n",
        "            logger.error(f\"Failed to load NuExtract model: {e}\")\n",
        "            self.model = None\n",
        "            self.tokenizer = None\n",
        "\n",
        "    def extract_fields(self, ocr_text: str) -> dict:\n",
        "        if not self.model or not self.tokenizer:\n",
        "            logger.error(\"Model not loaded\")\n",
        "            return {}\n",
        "\n",
        "        try:\n",
        "            template = {\n",
        "                \"Name\": \"\",\n",
        "                \"Age\": \"\",\n",
        "                \"Gender\": \"\",\n",
        "                \"DOB\": \"\",\n",
        "                \"Address\": \"\",\n",
        "                \"Phone\": \"\",\n",
        "                \"Email\": \"\",\n",
        "                \"ID\": \"\",\n",
        "                \"Country\": \"\"\n",
        "            }\n",
        "\n",
        "            prompt = f\"\"\"<|input|>\n",
        "{ocr_text}\n",
        "<|template|>\n",
        "{json.dumps(template, indent=2)}\n",
        "<|output|>\n",
        "\"\"\"\n",
        "\n",
        "            inputs = self.tokenizer(\n",
        "                prompt,\n",
        "                return_tensors=\"pt\",\n",
        "                max_length=2048,\n",
        "                truncation=True\n",
        "            ).to(self.device)\n",
        "\n",
        "            with torch.no_grad():\n",
        "                outputs = self.model.generate(\n",
        "                    **inputs,\n",
        "                    max_new_tokens=500,\n",
        "                    temperature=0.1,\n",
        "                    do_sample=False,\n",
        "                    pad_token_id=self.tokenizer.eos_token_id,\n",
        "                    eos_token_id=self.tokenizer.eos_token_id\n",
        "                )\n",
        "\n",
        "            generated_text = self.tokenizer.decode(outputs[0], skip_special_tokens=True)\n",
        "            output_start = generated_text.find(\"<|output|>\")\n",
        "            if output_start != -1:\n",
        "                json_part = generated_text[output_start + len(\"<|output|>\"):].strip()\n",
        "            else:\n",
        "                json_part = generated_text.split(prompt)[-1].strip()\n",
        "\n",
        "            try:\n",
        "                result = json.loads(json_part)\n",
        "                logger.info(f\"Successfully extracted fields: {result}\")\n",
        "                return result\n",
        "            except json.JSONDecodeError as e:\n",
        "                logger.error(f\"Failed to parse JSON output: {e}\")\n",
        "                logger.error(f\"Raw output: {json_part}\")\n",
        "                return {}\n",
        "\n",
        "        except Exception as e:\n",
        "            logger.error(f\"Error in field extraction: {e}\")\n",
        "            return {}\n",
        "\n",
        "nuextract_mapper = NuExtractFieldMapper()\n",
        "\n",
        "def map_fields_with_nuextract(llm_output, ocr_result=None):\n",
        "    if isinstance(llm_output, dict) and 'text' in llm_output:\n",
        "        ocr_text = llm_output['text']\n",
        "    else:\n",
        "        ocr_text = str(llm_output)\n",
        "\n",
        "    extracted_data = nuextract_mapper.extract_fields(ocr_text)\n",
        "\n",
        "    fields = {\n",
        "        \"name\": {\"value\": None, \"confidence\": None},\n",
        "        \"age\": {\"value\": None, \"confidence\": None},\n",
        "        \"gender\": {\"value\": None, \"confidence\": None},\n",
        "        \"dob\": {\"value\": None, \"confidence\": None},\n",
        "        \"address\": {\"value\": None, \"confidence\": None},\n",
        "        \"country\": {\"value\": None, \"confidence\": None},\n",
        "        \"phone\": {\"value\": None, \"confidence\": None},\n",
        "        \"email\": {\"value\": None, \"confidence\": None},\n",
        "        \"id_number\": {\"value\": None, \"confidence\": None},\n",
        "    }\n",
        "\n",
        "    if not extracted_data:\n",
        "        logger.warning(\"NuExtract failed to extract fields\")\n",
        "        return fields\n",
        "\n",
        "    def calculate_confidence(field_value, ocr_result, field_name):\n",
        "        if not field_value or not ocr_result or \"detections\" not in ocr_result:\n",
        "            return 0.9\n",
        "        field_str = str(field_value).lower().strip()\n",
        "        matching_confidences = []\n",
        "        for detection in ocr_result.get(\"detections\", []):\n",
        "            detection_text = str(detection.get(\"text\", \"\")).lower().strip()\n",
        "            detection_confidence = float(detection.get(\"confidence\", 0.0))\n",
        "            if field_str in detection_text or detection_text in field_str:\n",
        "                matching_confidences.append(detection_confidence)\n",
        "            else:\n",
        "                field_words = field_str.split()\n",
        "                if any(word in detection_text for word in field_words if len(word) > 2):\n",
        "                    matching_confidences.append(detection_confidence * 0.8)\n",
        "        if matching_confidences:\n",
        "            return round(sum(matching_confidences) / len(matching_confidences), 3)\n",
        "        else:\n",
        "            return 0.85\n",
        "\n",
        "    field_mapping = {\n",
        "        \"Name\": \"name\",\n",
        "        \"Age\": \"age\",\n",
        "        \"Gender\": \"gender\",\n",
        "        \"DOB\": \"dob\",\n",
        "        \"Address\": \"address\",\n",
        "        \"Phone\": \"phone\",\n",
        "        \"Email\": \"email\",\n",
        "        \"ID\": \"id_number\",\n",
        "        \"Country\": \"country\"\n",
        "    }\n",
        "\n",
        "    for extract_key, internal_key in field_mapping.items():\n",
        "        value = extracted_data.get(extract_key)\n",
        "        if value and str(value).strip():\n",
        "            clean_value = str(value).strip()\n",
        "            confidence = calculate_confidence(clean_value, ocr_result, internal_key)\n",
        "            fields[internal_key] = {\"value\": clean_value, \"confidence\": confidence}\n",
        "            logger.info(f\"Mapped {extract_key} -> {internal_key}: '{clean_value}'\")\n",
        "\n",
        "    return fields\n",
        "\n",
        "# -------------------------------\n",
        "# FastAPI setup\n",
        "# -------------------------------\n",
        "\n",
        "app = FastAPI(title=\"NuExtract API\")\n",
        "\n",
        "class ExtractRequest(BaseModel):\n",
        "    text: str\n",
        "\n",
        "@app.post(\"/extract\")\n",
        "def extract_fields_api(request: ExtractRequest):\n",
        "    if not request.text.strip():\n",
        "        raise HTTPException(status_code=400, detail=\"Text cannot be empty\")\n",
        "    result = map_fields_with_nuextract({\"text\": request.text})\n",
        "    print(result)\n",
        "    return {\"mapped_fields\": result}\n",
        "\n",
        "# -------------------------------\n",
        "# Run the server in Colab with ngrok\n",
        "# -------------------------------\n",
        "if __name__ == \"__main__\":\n",
        "    import nest_asyncio\n",
        "    import uvicorn\n",
        "    from pyngrok import ngrok\n",
        "\n",
        "    nest_asyncio.apply()\n",
        "\n",
        "    # Expose port 8000 via ngrok\n",
        "    public_url = ngrok.connect(8000)\n",
        "    print(\"NuExtract API URL:\", public_url)\n",
        "\n",
        "    # Start FastAPI server\n",
        "    uvicorn.run(app, host=\"0.0.0.0\", port=8000)\n"
      ]
    },
    {
      "cell_type": "code",
      "source": [
        "!pip install flask flask-ngrok transformers torch\n"
      ],
      "metadata": {
        "colab": {
          "base_uri": "https://localhost:8080/"
        },
        "id": "nlbKDaYw4sHZ",
        "outputId": "b34a6f04-c94c-4008-aaf9-d77f95aaaac7"
      },
      "execution_count": 1,
      "outputs": [
        {
          "output_type": "stream",
          "name": "stdout",
          "text": [
            "Requirement already satisfied: flask in /usr/local/lib/python3.12/dist-packages (3.1.2)\n",
            "Requirement already satisfied: flask-ngrok in /usr/local/lib/python3.12/dist-packages (0.0.25)\n",
            "Requirement already satisfied: transformers in /usr/local/lib/python3.12/dist-packages (4.56.1)\n",
            "Requirement already satisfied: torch in /usr/local/lib/python3.12/dist-packages (2.8.0+cu126)\n",
            "Requirement already satisfied: blinker>=1.9.0 in /usr/local/lib/python3.12/dist-packages (from flask) (1.9.0)\n",
            "Requirement already satisfied: click>=8.1.3 in /usr/local/lib/python3.12/dist-packages (from flask) (8.2.1)\n",
            "Requirement already satisfied: itsdangerous>=2.2.0 in /usr/local/lib/python3.12/dist-packages (from flask) (2.2.0)\n",
            "Requirement already satisfied: jinja2>=3.1.2 in /usr/local/lib/python3.12/dist-packages (from flask) (3.1.6)\n",
            "Requirement already satisfied: markupsafe>=2.1.1 in /usr/local/lib/python3.12/dist-packages (from flask) (3.0.2)\n",
            "Requirement already satisfied: werkzeug>=3.1.0 in /usr/local/lib/python3.12/dist-packages (from flask) (3.1.3)\n",
            "Requirement already satisfied: requests in /usr/local/lib/python3.12/dist-packages (from flask-ngrok) (2.32.4)\n",
            "Requirement already satisfied: filelock in /usr/local/lib/python3.12/dist-packages (from transformers) (3.19.1)\n",
            "Requirement already satisfied: huggingface-hub<1.0,>=0.34.0 in /usr/local/lib/python3.12/dist-packages (from transformers) (0.35.0)\n",
            "Requirement already satisfied: numpy>=1.17 in /usr/local/lib/python3.12/dist-packages (from transformers) (2.0.2)\n",
            "Requirement already satisfied: packaging>=20.0 in /usr/local/lib/python3.12/dist-packages (from transformers) (25.0)\n",
            "Requirement already satisfied: pyyaml>=5.1 in /usr/local/lib/python3.12/dist-packages (from transformers) (6.0.2)\n",
            "Requirement already satisfied: regex!=2019.12.17 in /usr/local/lib/python3.12/dist-packages (from transformers) (2024.11.6)\n",
            "Requirement already satisfied: tokenizers<=0.23.0,>=0.22.0 in /usr/local/lib/python3.12/dist-packages (from transformers) (0.22.0)\n",
            "Requirement already satisfied: safetensors>=0.4.3 in /usr/local/lib/python3.12/dist-packages (from transformers) (0.6.2)\n",
            "Requirement already satisfied: tqdm>=4.27 in /usr/local/lib/python3.12/dist-packages (from transformers) (4.67.1)\n",
            "Requirement already satisfied: typing-extensions>=4.10.0 in /usr/local/lib/python3.12/dist-packages (from torch) (4.15.0)\n",
            "Requirement already satisfied: setuptools in /usr/local/lib/python3.12/dist-packages (from torch) (75.2.0)\n",
            "Requirement already satisfied: sympy>=1.13.3 in /usr/local/lib/python3.12/dist-packages (from torch) (1.13.3)\n",
            "Requirement already satisfied: networkx in /usr/local/lib/python3.12/dist-packages (from torch) (3.5)\n",
            "Requirement already satisfied: fsspec in /usr/local/lib/python3.12/dist-packages (from torch) (2025.3.0)\n",
            "Requirement already satisfied: nvidia-cuda-nvrtc-cu12==12.6.77 in /usr/local/lib/python3.12/dist-packages (from torch) (12.6.77)\n",
            "Requirement already satisfied: nvidia-cuda-runtime-cu12==12.6.77 in /usr/local/lib/python3.12/dist-packages (from torch) (12.6.77)\n",
            "Requirement already satisfied: nvidia-cuda-cupti-cu12==12.6.80 in /usr/local/lib/python3.12/dist-packages (from torch) (12.6.80)\n",
            "Requirement already satisfied: nvidia-cudnn-cu12==9.10.2.21 in /usr/local/lib/python3.12/dist-packages (from torch) (9.10.2.21)\n",
            "Requirement already satisfied: nvidia-cublas-cu12==12.6.4.1 in /usr/local/lib/python3.12/dist-packages (from torch) (12.6.4.1)\n",
            "Requirement already satisfied: nvidia-cufft-cu12==11.3.0.4 in /usr/local/lib/python3.12/dist-packages (from torch) (11.3.0.4)\n",
            "Requirement already satisfied: nvidia-curand-cu12==10.3.7.77 in /usr/local/lib/python3.12/dist-packages (from torch) (10.3.7.77)\n",
            "Requirement already satisfied: nvidia-cusolver-cu12==11.7.1.2 in /usr/local/lib/python3.12/dist-packages (from torch) (11.7.1.2)\n",
            "Requirement already satisfied: nvidia-cusparse-cu12==12.5.4.2 in /usr/local/lib/python3.12/dist-packages (from torch) (12.5.4.2)\n",
            "Requirement already satisfied: nvidia-cusparselt-cu12==0.7.1 in /usr/local/lib/python3.12/dist-packages (from torch) (0.7.1)\n",
            "Requirement already satisfied: nvidia-nccl-cu12==2.27.3 in /usr/local/lib/python3.12/dist-packages (from torch) (2.27.3)\n",
            "Requirement already satisfied: nvidia-nvtx-cu12==12.6.77 in /usr/local/lib/python3.12/dist-packages (from torch) (12.6.77)\n",
            "Requirement already satisfied: nvidia-nvjitlink-cu12==12.6.85 in /usr/local/lib/python3.12/dist-packages (from torch) (12.6.85)\n",
            "Requirement already satisfied: nvidia-cufile-cu12==1.11.1.6 in /usr/local/lib/python3.12/dist-packages (from torch) (1.11.1.6)\n",
            "Requirement already satisfied: triton==3.4.0 in /usr/local/lib/python3.12/dist-packages (from torch) (3.4.0)\n",
            "Requirement already satisfied: hf-xet<2.0.0,>=1.1.3 in /usr/local/lib/python3.12/dist-packages (from huggingface-hub<1.0,>=0.34.0->transformers) (1.1.10)\n",
            "Requirement already satisfied: mpmath<1.4,>=1.1.0 in /usr/local/lib/python3.12/dist-packages (from sympy>=1.13.3->torch) (1.3.0)\n",
            "Requirement already satisfied: charset_normalizer<4,>=2 in /usr/local/lib/python3.12/dist-packages (from requests->flask-ngrok) (3.4.3)\n",
            "Requirement already satisfied: idna<4,>=2.5 in /usr/local/lib/python3.12/dist-packages (from requests->flask-ngrok) (3.10)\n",
            "Requirement already satisfied: urllib3<3,>=1.21.1 in /usr/local/lib/python3.12/dist-packages (from requests->flask-ngrok) (2.5.0)\n",
            "Requirement already satisfied: certifi>=2017.4.17 in /usr/local/lib/python3.12/dist-packages (from requests->flask-ngrok) (2025.8.3)\n"
          ]
        }
      ]
    },
    {
      "cell_type": "code",
      "source": [
        "!pip install pyngrok"
      ],
      "metadata": {
        "colab": {
          "base_uri": "https://localhost:8080/"
        },
        "id": "ajks1Mnk5pAa",
        "outputId": "a4cf2c59-c0c3-4e8b-ee33-83cd3200aedc"
      },
      "execution_count": 2,
      "outputs": [
        {
          "output_type": "stream",
          "name": "stdout",
          "text": [
            "Requirement already satisfied: pyngrok in /usr/local/lib/python3.12/dist-packages (7.4.0)\n",
            "Requirement already satisfied: PyYAML>=5.1 in /usr/local/lib/python3.12/dist-packages (from pyngrok) (6.0.2)\n",
            "^C\n"
          ]
        }
      ]
    },
    {
      "cell_type": "code",
      "source": [
        "!ngrok authtoken 33CVblnubvJ0XkO6OFIoahA1ayu_9wXpjRCRthtwcvgUPQVq\n"
      ],
      "metadata": {
        "colab": {
          "base_uri": "https://localhost:8080/"
        },
        "id": "-J8z4rDS6slV",
        "outputId": "b238cbc1-7980-49ce-8a3d-18b99b50b41d"
      },
      "execution_count": 3,
      "outputs": [
        {
          "output_type": "stream",
          "name": "stdout",
          "text": [
            "Authtoken saved to configuration file: /root/.config/ngrok/ngrok.yml\n"
          ]
        }
      ]
    },
    {
      "cell_type": "code",
      "source": [
        "from pyngrok import ngrok\n",
        "\n",
        "# Open an HTTP tunnel on port 8000\n",
        "public_url = ngrok.connect(8000)\n",
        "print(\"NuExtract server URL:\", public_url)"
      ],
      "metadata": {
        "colab": {
          "base_uri": "https://localhost:8080/"
        },
        "id": "ADac6Qiq5sBm",
        "outputId": "d59a0bfd-03c0-42f6-d4a3-6496ac85b668"
      },
      "execution_count": 4,
      "outputs": [
        {
          "output_type": "stream",
          "name": "stdout",
          "text": [
            "NuExtract server URL: NgrokTunnel: \"https://apologal-flutelike-bert.ngrok-free.dev\" -> \"http://localhost:8000\"\n"
          ]
        }
      ]
    }
  ]
}