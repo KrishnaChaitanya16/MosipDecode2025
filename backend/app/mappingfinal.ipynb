{
 "cells": [
  {
   "cell_type": "code",
   "execution_count": 1,
   "metadata": {
    "execution": {
     "iopub.execute_input": "2025-09-27T12:49:05.895831Z",
     "iopub.status.busy": "2025-09-27T12:49:05.895573Z",
     "iopub.status.idle": "2025-09-27T12:49:05.905757Z",
     "shell.execute_reply": "2025-09-27T12:49:05.904984Z",
     "shell.execute_reply.started": "2025-09-27T12:49:05.895811Z"
    },
    "trusted": true
   },
   "outputs": [
    {
     "name": "stdout",
     "output_type": "stream",
     "text": [
      "Using Ollama model (offline): qwen2.5:1.5b\n"
     ]
    }
   ],
   "source": [
    "import json\n",
    "import re\n",
    "import requests\n",
    "\n",
    "class QwenFieldMapper:\n",
    "    def __init__(self, model_name=\"qwen2.5:1.5b\"):\n",
    "        \"\"\"\n",
    "        Uses an Ollama model that is already pulled locally.\n",
    "        Example: ollama pull qwen2.5:1.5b\n",
    "        \"\"\"\n",
    "        self.model_name = model_name\n",
    "        self.api_url = \"http://localhost:11434/api/generate\"\n",
    "        print(f\"Using Ollama model (offline): {self.model_name}\")\n",
    "\n",
    "    def extract_fields(self, ocr_text: str, required_fields: list[str]) -> dict:\n",
    "        \"\"\"\n",
    "        Extract the given required_fields from ocr_text and return only JSON \n",
    "        with those exact keys.\n",
    "        \"\"\"\n",
    "        # Build JSON skeleton\n",
    "        skeleton = \"{\\n\"\n",
    "        skeleton += \",\\n\".join([f'  \"{field}\": \"\"' for field in required_fields])\n",
    "        skeleton += \"\\n}\"\n",
    "\n",
    "        prompt = f\"\"\"Extract information from the following text and return ONLY a JSON object\n",
    "with these exact field names (no other text or keys).:\n",
    "\n",
    "Text: {ocr_text}\n",
    "\n",
    "Return only this JSON format:\n",
    "{skeleton}\n",
    "\"\"\"\n",
    "\n",
    "        payload = {\n",
    "            \"model\": self.model_name,\n",
    "            \"prompt\": prompt,\n",
    "            \"stream\": False,\n",
    "            \"options\": {\n",
    "                \"temperature\": 0,\n",
    "                \"repeat_penalty\": 1.1,\n",
    "                \"top_p\" : 1\n",
    "            }\n",
    "        }\n",
    "\n",
    "        try:\n",
    "            response = requests.post(self.api_url, json=payload, timeout=120)\n",
    "            response.raise_for_status()\n",
    "            generated = response.json().get(\"response\", \"\")\n",
    "        except Exception as e:\n",
    "            print(\"Error communicating with Ollama:\", e)\n",
    "            return {field: \"\" for field in required_fields}\n",
    "\n",
    "        return self._extract_strict_json(generated, required_fields)\n",
    "\n",
    "    def _extract_strict_json(self, text: str, required_fields: list[str]) -> dict:\n",
    "        \"\"\"\n",
    "        Extracts the first valid JSON object from text and ensures all required fields exist.\n",
    "        \"\"\"\n",
    "        default_result = {field: \"\" for field in required_fields}\n",
    "\n",
    "        try:\n",
    "            clean_text = text.replace(\"```json\", \"\").replace(\"```\", \"\").strip()\n",
    "            match = re.search(r'\\{.*?\\}', clean_text, re.DOTALL)\n",
    "            if match:\n",
    "                parsed_json = json.loads(match.group(0))\n",
    "                # Guarantee all requested fields exist\n",
    "                for key in default_result.keys():\n",
    "                    if key not in parsed_json:\n",
    "                        parsed_json[key] = \"\"\n",
    "                return parsed_json\n",
    "        except json.JSONDecodeError:\n",
    "            pass\n",
    "        return default_result\n",
    "mapper = QwenFieldMapper(\"qwen2.5:1.5b\")\n",
    "\n",
    "\n"
   ]
  },
  {
   "cell_type": "code",
   "execution_count": null,
   "metadata": {
    "execution": {
     "iopub.execute_input": "2025-09-27T12:49:16.208900Z",
     "iopub.status.busy": "2025-09-27T12:49:16.208603Z"
    },
    "trusted": true
   },
   "outputs": [
    {
     "name": "stdout",
     "output_type": "stream",
     "text": [
      "Loading model, this may take a few minutes...\n",
      "Using Ollama model (offline): qwen2.5:1.5b\n",
      "Model ready!\n"
     ]
    },
    {
     "name": "stderr",
     "output_type": "stream",
     "text": [
      "INFO:     Started server process [13136]\n",
      "INFO:     Waiting for application startup.\n",
      "INFO:     Application startup complete.\n",
      "INFO:     Uvicorn running on http://127.0.0.1:8001 (Press CTRL+C to quit)\n"
     ]
    },
    {
     "name": "stdout",
     "output_type": "stream",
     "text": [
      "Error communicating with Ollama: HTTPConnectionPool(host='localhost', port=11434): Max retries exceeded with url: /api/generate (Caused by NewConnectionError('<urllib3.connection.HTTPConnection object at 0x000001F0ED560750>: Failed to establish a new connection: [WinError 10061] No connection could be made because the target machine actively refused it'))\n",
      "INFO:     127.0.0.1:57550 - \"POST /extract HTTP/1.1\" 200 OK\n",
      "INFO:     127.0.0.1:58536 - \"POST /extract HTTP/1.1\" 200 OK\n",
      "INFO:     127.0.0.1:63993 - \"POST /extract HTTP/1.1\" 200 OK\n",
      "INFO:     127.0.0.1:61664 - \"POST /extract HTTP/1.1\" 200 OK\n",
      "INFO:     127.0.0.1:51096 - \"POST /extract HTTP/1.1\" 200 OK\n",
      "INFO:     127.0.0.1:50919 - \"POST /extract HTTP/1.1\" 200 OK\n",
      "INFO:     127.0.0.1:62899 - \"POST /extract HTTP/1.1\" 200 OK\n",
      "INFO:     127.0.0.1:63288 - \"POST /extract HTTP/1.1\" 200 OK\n",
      "INFO:     127.0.0.1:63730 - \"POST /extract HTTP/1.1\" 200 OK\n",
      "INFO:     127.0.0.1:63133 - \"POST /extract HTTP/1.1\" 200 OK\n",
      "INFO:     127.0.0.1:64590 - \"POST /extract HTTP/1.1\" 200 OK\n",
      "INFO:     127.0.0.1:59414 - \"POST /extract HTTP/1.1\" 200 OK\n",
      "INFO:     127.0.0.1:59419 - \"POST /extract HTTP/1.1\" 200 OK\n",
      "INFO:     127.0.0.1:62699 - \"POST /extract HTTP/1.1\" 200 OK\n",
      "INFO:     127.0.0.1:61532 - \"POST /extract HTTP/1.1\" 200 OK\n",
      "INFO:     127.0.0.1:61567 - \"POST /extract HTTP/1.1\" 200 OK\n",
      "INFO:     127.0.0.1:63564 - \"POST /extract HTTP/1.1\" 422 Unprocessable Entity\n",
      "INFO:     127.0.0.1:59175 - \"POST /extract HTTP/1.1\" 200 OK\n",
      "INFO:     127.0.0.1:61965 - \"POST /extract HTTP/1.1\" 422 Unprocessable Entity\n",
      "INFO:     127.0.0.1:61282 - \"POST /extract HTTP/1.1\" 200 OK\n",
      "INFO:     127.0.0.1:58082 - \"POST /extract HTTP/1.1\" 200 OK\n",
      "INFO:     127.0.0.1:62938 - \"POST /extract HTTP/1.1\" 200 OK\n",
      "INFO:     127.0.0.1:62710 - \"POST /extract HTTP/1.1\" 200 OK\n",
      "INFO:     127.0.0.1:55397 - \"POST /extract HTTP/1.1\" 200 OK\n"
     ]
    }
   ],
   "source": [
    "import json\n",
    "from fastapi import FastAPI, HTTPException\n",
    "from pydantic import BaseModel\n",
    "import nest_asyncio\n",
    "\n",
    "\n",
    "# ----------------- FastAPI Setup -----------------\n",
    "app = FastAPI(title=\"OCR Field Extractor API\")\n",
    "\n",
    "# ----------------- Request Body Model -----------------\n",
    "class OCRRequest(BaseModel):\n",
    "    text: str\n",
    "    fields: list[str]\n",
    "\n",
    "# ----------------- Initialize the Qwen Model -----------------\n",
    "print(\"Loading model, this may take a few minutes...\")\n",
    "mapper = QwenFieldMapper()  # Ollama offline model\n",
    "print(\"Model ready!\")\n",
    "\n",
    "# ----------------- API Endpoint -----------------\n",
    "@app.post(\"/extract\")\n",
    "def extract_fields(request: OCRRequest):\n",
    "    try:\n",
    "        result = mapper.extract_fields(request.text, request.fields)\n",
    "        return result\n",
    "    except Exception as e:\n",
    "        raise HTTPException(status_code=500, detail=str(e))\n",
    "nest_asyncio.apply()\n",
    "\n",
    "# ----------------- Run FastAPI -----------------\n",
    "if __name__ == \"__main__\":\n",
    "    import uvicorn\n",
    "    # Change the port to whatever you want, e.g., 9000\n",
    "    uvicorn.run(app, host=\"127.0.0.1\", port=8001)\n"
   ]
  }
 ],
 "metadata": {
  "kaggle": {
   "accelerator": "nvidiaTeslaT4",
   "dataSources": [],
   "dockerImageVersionId": 31090,
   "isGpuEnabled": true,
   "isInternetEnabled": true,
   "language": "python",
   "sourceType": "notebook"
  },
  "kernelspec": {
   "display_name": "Python 3",
   "language": "python",
   "name": "python3"
  },
  "language_info": {
   "codemirror_mode": {
    "name": "ipython",
    "version": 3
   },
   "file_extension": ".py",
   "mimetype": "text/x-python",
   "name": "python",
   "nbconvert_exporter": "python",
   "pygments_lexer": "ipython3",
   "version": "3.11.9"
  }
 },
 "nbformat": 4,
 "nbformat_minor": 4
}
