{
 "cells": [
  {
   "cell_type": "code",
   "execution_count": null,
   "metadata": {
    "execution": {
     "iopub.execute_input": "2025-09-27T12:49:05.895831Z",
     "iopub.status.busy": "2025-09-27T12:49:05.895573Z",
     "iopub.status.idle": "2025-09-27T12:49:05.905757Z",
     "shell.execute_reply": "2025-09-27T12:49:05.904984Z",
     "shell.execute_reply.started": "2025-09-27T12:49:05.895811Z"
    },
    "trusted": true
   },
   "outputs": [
    {
     "name": "stdout",
     "output_type": "stream",
     "text": [
      "Using Ollama model (offline): qwen2.5:1.5b\n"
     ]
    }
   ],
   "source": [
    "import json\n",
    "import re\n",
    "import requests\n",
    "\n",
    "class QwenFieldMapper:\n",
    "    def __init__(self, model_name=\"qwen2.5:1.5b\"):\n",
    "        \"\"\"\n",
    "        Uses an Ollama model that is already pulled locally.\n",
    "        Example: ollama pull qwen2.5:1.5b\n",
    "        \"\"\"\n",
    "        self.model_name = model_name\n",
    "        self.api_url = \"http://localhost:11434/api/generate\"\n",
    "        print(f\"Using Ollama model (offline): {self.model_name}\")\n",
    "\n",
    "    def extract_fields(self, ocr_text: str, required_fields: list[str]) -> dict:\n",
    "        \"\"\"\n",
    "        Extract the given required_fields from ocr_text and return only JSON \n",
    "        with those exact keys.\n",
    "        \"\"\"\n",
    "        # Build JSON skeleton\n",
    "        skeleton = \"{\\n\"\n",
    "        skeleton += \",\\n\".join([f'  \"{field}\": \"\"' for field in required_fields])\n",
    "        skeleton += \"\\n}\"\n",
    "\n",
    "        prompt = f\"\"\"Extract information from the following text and return ONLY a JSON object\n",
    "with these exact field names (no other text or keys).:\n",
    "\n",
    "Text: {ocr_text}\n",
    "\n",
    "Return only this JSON format:\n",
    "{skeleton}\n",
    "\"\"\"\n",
    "\n",
    "        payload = {\n",
    "            \"model\": self.model_name,\n",
    "            \"prompt\": prompt,\n",
    "            \"stream\": False,\n",
    "            \"options\": {\n",
    "                \"temperature\": 0,\n",
    "                \"repeat_penalty\": 1.1,\n",
    "                \"top_p\" : 1\n",
    "            }\n",
    "        }\n",
    "\n",
    "        try:\n",
    "            response = requests.post(self.api_url, json=payload, timeout=120)\n",
    "            response.raise_for_status()\n",
    "            generated = response.json().get(\"response\", \"\")\n",
    "        except Exception as e:\n",
    "            print(\"Error communicating with Ollama:\", e)\n",
    "            return {field: \"\" for field in required_fields}\n",
    "\n",
    "        return self._extract_strict_json(generated, required_fields)\n",
    "\n",
    "    def _extract_strict_json(self, text: str, required_fields: list[str]) -> dict:\n",
    "        \"\"\"\n",
    "        Extracts the first valid JSON object from text and ensures all required fields exist.\n",
    "        \"\"\"\n",
    "        default_result = {field: \"\" for field in required_fields}\n",
    "\n",
    "        try:\n",
    "            clean_text = text.replace(\"```json\", \"\").replace(\"```\", \"\").strip()\n",
    "            match = re.search(r'\\{.*?\\}', clean_text, re.DOTALL)\n",
    "            if match:\n",
    "                parsed_json = json.loads(match.group(0))\n",
    "                # Guarantee all requested fields exist\n",
    "                for key in default_result.keys():\n",
    "                    if key not in parsed_json:\n",
    "                        parsed_json[key] = \"\"\n",
    "                return parsed_json\n",
    "        except json.JSONDecodeError:\n",
    "            pass\n",
    "        return default_result\n",
    "mapper = QwenFieldMapper(\"qwen2.5:1.5b\")\n",
    "print(\"Model initialized.\")\n",
    "\n",
    "\n"
   ]
  },
  {
   "cell_type": "code",
   "execution_count": null,
   "metadata": {
    "execution": {
     "iopub.execute_input": "2025-09-27T12:49:16.208900Z",
     "iopub.status.busy": "2025-09-27T12:49:16.208603Z"
    },
    "trusted": true
   },
   "outputs": [
    {
     "name": "stdout",
     "output_type": "stream",
     "text": [
      "Loading model, this may take a few minutes...\n",
      "Using Ollama model (offline): qwen2.5:1.5b\n",
      "Model ready!\n",
      "Server running at http://127.0.0.1:57198 (saved in .env as NOTEBOOK_URL)\n"
     ]
    },
    {
     "name": "stderr",
     "output_type": "stream",
     "text": [
      "INFO:     Started server process [13136]\n",
      "INFO:     Waiting for application startup.\n",
      "INFO:     Application startup complete.\n"
     ]
    },
    {
     "name": "stderr",
     "output_type": "stream",
     "text": [
      "INFO:     Uvicorn running on http://127.0.0.1:57198 (Press CTRL+C to quit)\n"
     ]
    },
    {
     "name": "stdout",
     "output_type": "stream",
     "text": [
      "INFO:     127.0.0.1:49667 - \"POST /extract HTTP/1.1\" 200 OK\n"
     ]
    }
   ],
   "source": [
    "import os\n",
    "import socket\n",
    "import uvicorn\n",
    "from fastapi import FastAPI, HTTPException\n",
    "from pydantic import BaseModel\n",
    "import nest_asyncio\n",
    "from dotenv import set_key, load_dotenv\n",
    "\n",
    "# ----------------- FastAPI Setup -----------------\n",
    "app = FastAPI(title=\"OCR Field Extractor API\")\n",
    "\n",
    "# ----------------- Request Body Model -----------------\n",
    "class OCRRequest(BaseModel):\n",
    "    text: str\n",
    "    fields: list[str]\n",
    "\n",
    "# ----------------- Initialize the Qwen Model -----------------\n",
    "print(\"Loading model, this may take a few minutes...\")\n",
    "mapper = QwenFieldMapper()  # Ollama offline model\n",
    "print(\"Model ready!\")\n",
    "\n",
    "# ----------------- API Endpoint -----------------\n",
    "@app.post(\"/extract\")\n",
    "def extract_fields(request: OCRRequest):\n",
    "    try:\n",
    "        result = mapper.extract_fields(request.text, request.fields)\n",
    "        return result\n",
    "    except Exception as e:\n",
    "        raise HTTPException(status_code=500, detail=str(e))\n",
    "\n",
    "# Enable nested event loop (for Jupyter/Notebook usage)\n",
    "nest_asyncio.apply()\n",
    "\n",
    "# ----------------- Utility: find free port -----------------\n",
    "def find_free_port() -> int:\n",
    "    \"\"\"Find an available TCP port on localhost.\"\"\"\n",
    "    with socket.socket(socket.AF_INET, socket.SOCK_STREAM) as s:\n",
    "        s.bind((\"\", 0))  # let OS assign a free port\n",
    "        return s.getsockname()[1]\n",
    "\n",
    "# ----------------- Run FastAPI -----------------\n",
    "if __name__ == \"__main__\":\n",
    "    # Find available port\n",
    "    port = find_free_port()\n",
    "    host = \"127.0.0.1\"\n",
    "    url = f\"http://{host}:{port}\"\n",
    "\n",
    "    # Load .env and update NOTEBOOK_URL\n",
    "    dotenv_path = \"../.env\"  # adjust path if needed\n",
    "    load_dotenv(dotenv_path)\n",
    "    set_key(dotenv_path, \"NOTEBOOK_URL\", url)\n",
    "\n",
    "    print(f\"Server running at {url} (saved in .env as NOTEBOOK_URL)\")\n",
    "    set_key(dotenv_path, \"ISRUNNING\", \"true\")\n",
    "\n",
    "\n",
    "\n",
    "    # Run without reloader (avoids duplicate process in notebooks)\n",
    "    uvicorn.run(app, host=host, port=port)\n"
   ]
  }
 ],
 "metadata": {
  "kaggle": {
   "accelerator": "nvidiaTeslaT4",
   "dataSources": [],
   "dockerImageVersionId": 31090,
   "isGpuEnabled": true,
   "isInternetEnabled": true,
   "language": "python",
   "sourceType": "notebook"
  },
  "kernelspec": {
   "display_name": "base",
   "language": "python",
   "name": "python3"
  },
  "language_info": {
   "codemirror_mode": {
    "name": "ipython",
    "version": 3
   },
   "file_extension": ".py",
   "mimetype": "text/x-python",
   "name": "python",
   "nbconvert_exporter": "python",
   "pygments_lexer": "ipython3",
   "version": "3.12.7"
  }
 },
 "nbformat": 4,
 "nbformat_minor": 4
}
