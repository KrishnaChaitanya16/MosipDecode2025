{
 "cells": [
  {
   "cell_type": "code",
   "execution_count": 1,
   "metadata": {
    "_cell_guid": "b1076dfc-b9ad-4769-8c92-a6c4dae69d19",
    "_uuid": "8f2839f25d086af736a60e9eeb907d3b93b6e0e5",
    "execution": {
     "iopub.execute_input": "2025-09-27T12:49:03.079508Z",
     "iopub.status.busy": "2025-09-27T12:49:03.079289Z",
     "iopub.status.idle": "2025-09-27T12:49:03.083822Z",
     "shell.execute_reply": "2025-09-27T12:49:03.083325Z",
     "shell.execute_reply.started": "2025-09-27T12:49:03.079492Z"
    },
    "trusted": true
   },
   "outputs": [],
   "source": [
    "# This Python 3 environment comes with many helpful analytics libraries installed\n",
    "# It is defined by the kaggle/python Docker image: https://github.com/kaggle/docker-python\n",
    "# For example, here's several helpful packages to load\n",
    "\n",
    "import numpy as np # linear algebra\n",
    "import pandas as pd # data processing, CSV file I/O (e.g. pd.read_csv)\n",
    "\n",
    "# Input data files are available in the read-only \"../input/\" directory\n",
    "# For example, running this (by clicking run or pressing Shift+Enter) will list all files under the input directory\n",
    "\n",
    "import os\n",
    "for dirname, _, filenames in os.walk('/kaggle/input'):\n",
    "    for filename in filenames:\n",
    "        print(os.path.join(dirname, filename))\n",
    "\n",
    "# You can write up to 20GB to the current directory (/kaggle/working/) that gets preserved as output when you create a version using \"Save & Run All\" \n",
    "# You can also write temporary files to /kaggle/temp/, but they won't be saved outside of the current session"
   ]
  },
  {
   "cell_type": "code",
   "execution_count": null,
   "metadata": {
    "execution": {
     "iopub.execute_input": "2025-09-27T12:49:05.895831Z",
     "iopub.status.busy": "2025-09-27T12:49:05.895573Z",
     "iopub.status.idle": "2025-09-27T12:49:05.905757Z",
     "shell.execute_reply": "2025-09-27T12:49:05.904984Z",
     "shell.execute_reply.started": "2025-09-27T12:49:05.895811Z"
    },
    "trusted": true
   },
   "outputs": [
    {
     "name": "stdout",
     "output_type": "stream",
     "text": [
      "Using Ollama model (offline): qwen2.5:1.5b\n",
      "{'Name': 'Alice Johnson', 'Date': '2025-09-29', 'ID': 'A12345'}\n"
     ]
    }
   ],
   "source": [
    "import json\n",
    "import re\n",
    "import requests\n",
    "\n",
    "class QwenFieldMapper:\n",
    "    def __init__(self, model_name=\"qwen2.5:1.5b\"):\n",
    "        \"\"\"\n",
    "        Uses an Ollama model that is already pulled locally.\n",
    "        Example: ollama pull qwen2.5:1.5b\n",
    "        \"\"\"\n",
    "        self.model_name = model_name\n",
    "        self.api_url = \"http://localhost:11434/api/generate\"\n",
    "        print(f\"Using Ollama model (offline): {self.model_name}\")\n",
    "\n",
    "    def extract_fields(self, ocr_text: str, required_fields: list[str]) -> dict:\n",
    "        \"\"\"\n",
    "        Extract the given required_fields from ocr_text and return only JSON \n",
    "        with those exact keys.\n",
    "        \"\"\"\n",
    "        # Build JSON skeleton\n",
    "        skeleton = \"{\\n\"\n",
    "        skeleton += \",\\n\".join([f'  \"{field}\": \"\"' for field in required_fields])\n",
    "        skeleton += \"\\n}\"\n",
    "\n",
    "        prompt = f\"\"\"Extract information from the following text and return ONLY a JSON object\n",
    "with these exact field names (no other text or keys):\n",
    "\n",
    "Text: {ocr_text}\n",
    "\n",
    "Return only this JSON format:\n",
    "{skeleton}\n",
    "\"\"\"\n",
    "\n",
    "        payload = {\n",
    "            \"model\": self.model_name,\n",
    "            \"prompt\": prompt,\n",
    "            \"stream\": False\n",
    "        }\n",
    "\n",
    "        try:\n",
    "            response = requests.post(self.api_url, json=payload, timeout=120)\n",
    "            response.raise_for_status()\n",
    "            generated = response.json().get(\"response\", \"\")\n",
    "        except Exception as e:\n",
    "            print(\"Error communicating with Ollama:\", e)\n",
    "            return {field: \"\" for field in required_fields}\n",
    "\n",
    "        return self._extract_strict_json(generated, required_fields)\n",
    "\n",
    "    def _extract_strict_json(self, text: str, required_fields: list[str]) -> dict:\n",
    "        \"\"\"\n",
    "        Extracts the first valid JSON object from text and ensures all required fields exist.\n",
    "        \"\"\"\n",
    "        default_result = {field: \"\" for field in required_fields}\n",
    "\n",
    "        try:\n",
    "            clean_text = text.replace(\"```json\", \"\").replace(\"```\", \"\").strip()\n",
    "            match = re.search(r'\\{.*?\\}', clean_text, re.DOTALL)\n",
    "            if match:\n",
    "                parsed_json = json.loads(match.group(0))\n",
    "                # Guarantee all requested fields exist\n",
    "                for key in default_result.keys():\n",
    "                    if key not in parsed_json:\n",
    "                        parsed_json[key] = \"\"\n",
    "                return parsed_json\n",
    "        except json.JSONDecodeError:\n",
    "            pass\n",
    "        return default_result\n",
    "mapper = QwenFieldMapper(\"qwen2.5:1.5b\")\n",
    "\n",
    "\n"
   ]
  },
  {
   "cell_type": "code",
   "execution_count": 11,
   "metadata": {
    "execution": {
     "iopub.execute_input": "2025-09-27T12:49:08.863727Z",
     "iopub.status.busy": "2025-09-27T12:49:08.863476Z",
     "iopub.status.idle": "2025-09-27T12:49:11.929096Z",
     "shell.execute_reply": "2025-09-27T12:49:11.928132Z",
     "shell.execute_reply.started": "2025-09-27T12:49:08.863710Z"
    },
    "trusted": true
   },
   "outputs": [
    {
     "name": "stderr",
     "output_type": "stream",
     "text": [
      "huggingface/tokenizers: The current process just got forked, after parallelism has already been used. Disabling parallelism to avoid deadlocks...\n",
      "To disable this warning, you can either:\n",
      "\t- Avoid using `tokenizers` before the fork if possible\n",
      "\t- Explicitly set the environment variable TOKENIZERS_PARALLELISM=(true | false)\n"
     ]
    },
    {
     "name": "stdout",
     "output_type": "stream",
     "text": [
      "Requirement already satisfied: pyngrok in /usr/local/lib/python3.11/dist-packages (7.4.0)\n",
      "Requirement already satisfied: PyYAML>=5.1 in /usr/local/lib/python3.11/dist-packages (from pyngrok) (6.0.2)\n"
     ]
    }
   ],
   "source": [
    "! pip install pyngrok"
   ]
  },
  {
   "cell_type": "code",
   "execution_count": 12,
   "metadata": {
    "execution": {
     "iopub.execute_input": "2025-09-27T12:49:12.929710Z",
     "iopub.status.busy": "2025-09-27T12:49:12.929064Z",
     "iopub.status.idle": "2025-09-27T12:49:13.257588Z",
     "shell.execute_reply": "2025-09-27T12:49:13.256637Z",
     "shell.execute_reply.started": "2025-09-27T12:49:12.929681Z"
    },
    "trusted": true
   },
   "outputs": [
    {
     "name": "stdout",
     "output_type": "stream",
     "text": [
      "Authtoken saved to configuration file: /root/.config/ngrok/ngrok.yml\n"
     ]
    },
    {
     "name": "stderr",
     "output_type": "stream",
     "text": [
      "huggingface/tokenizers: The current process just got forked, after parallelism has already been used. Disabling parallelism to avoid deadlocks...\n",
      "To disable this warning, you can either:\n",
      "\t- Avoid using `tokenizers` before the fork if possible\n",
      "\t- Explicitly set the environment variable TOKENIZERS_PARALLELISM=(true | false)\n"
     ]
    }
   ],
   "source": [
    "!ngrok authtoken 33CVblnubvJ0XkO6OFIoahA1ayu_9wXpjRCRthtwcvgUPQVq"
   ]
  },
  {
   "cell_type": "code",
   "execution_count": null,
   "metadata": {
    "execution": {
     "iopub.execute_input": "2025-09-27T12:49:16.208900Z",
     "iopub.status.busy": "2025-09-27T12:49:16.208603Z"
    },
    "trusted": true
   },
   "outputs": [
    {
     "name": "stdout",
     "output_type": "stream",
     "text": [
      "Loading model, this may take a few minutes...\n",
      "Using Ollama model (offline): qwen2.5:1.5b\n",
      "Model ready!\n"
     ]
    },
    {
     "name": "stderr",
     "output_type": "stream",
     "text": [
      "INFO:     Started server process [31352]\n",
      "INFO:     Waiting for application startup.\n",
      "INFO:     Application startup complete.\n",
      "INFO:     Uvicorn running on http://127.0.0.1:9000 (Press CTRL+C to quit)\n"
     ]
    },
    {
     "name": "stdout",
     "output_type": "stream",
     "text": [
      "INFO:     127.0.0.1:50837 - \"POST /extract HTTP/1.1\" 200 OK\n"
     ]
    }
   ],
   "source": [
    "import json\n",
    "from fastapi import FastAPI, HTTPException\n",
    "from pydantic import BaseModel\n",
    "import nest_asyncio\n",
    "\n",
    "\n",
    "# ----------------- FastAPI Setup -----------------\n",
    "app = FastAPI(title=\"OCR Field Extractor API\")\n",
    "\n",
    "# ----------------- Request Body Model -----------------\n",
    "class OCRRequest(BaseModel):\n",
    "    text: str\n",
    "    fields: list[str]\n",
    "\n",
    "# ----------------- Initialize the Qwen Model -----------------\n",
    "print(\"Loading model, this may take a few minutes...\")\n",
    "mapper = QwenFieldMapper()  # Ollama offline model\n",
    "print(\"Model ready!\")\n",
    "\n",
    "# ----------------- API Endpoint -----------------\n",
    "@app.post(\"/extract\")\n",
    "def extract_fields(request: OCRRequest):\n",
    "    try:\n",
    "        result = mapper.extract_fields(request.text, request.fields)\n",
    "        return result\n",
    "    except Exception as e:\n",
    "        raise HTTPException(status_code=500, detail=str(e))\n",
    "nest_asyncio.apply()\n",
    "\n",
    "# ----------------- Run FastAPI -----------------\n",
    "if __name__ == \"__main__\":\n",
    "    import uvicorn\n",
    "    # Change the port to whatever you want, e.g., 9000\n",
    "    uvicorn.run(app, host=\"127.0.0.1\", port=9000)\n"
   ]
  }
 ],
 "metadata": {
  "kaggle": {
   "accelerator": "nvidiaTeslaT4",
   "dataSources": [],
   "dockerImageVersionId": 31090,
   "isGpuEnabled": true,
   "isInternetEnabled": true,
   "language": "python",
   "sourceType": "notebook"
  },
  "kernelspec": {
   "display_name": "base",
   "language": "python",
   "name": "python3"
  },
  "language_info": {
   "codemirror_mode": {
    "name": "ipython",
    "version": 3
   },
   "file_extension": ".py",
   "mimetype": "text/x-python",
   "name": "python",
   "nbconvert_exporter": "python",
   "pygments_lexer": "ipython3",
   "version": "3.12.7"
  }
 },
 "nbformat": 4,
 "nbformat_minor": 4
}
